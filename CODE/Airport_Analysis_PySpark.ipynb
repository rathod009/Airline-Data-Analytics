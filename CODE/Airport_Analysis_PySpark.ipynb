{
  "nbformat": 4,
  "nbformat_minor": 0,
  "metadata": {
    "colab": {
      "provenance": []
    },
    "kernelspec": {
      "name": "python3",
      "display_name": "Python 3"
    },
    "language_info": {
      "name": "python"
    }
  },
  "cells": [
    {
      "cell_type": "markdown",
      "metadata": {
        "id": "BVqTTiSE-jNi"
      },
      "source": [
        "# **Installing and Initializing Spark on Google Colab**"
      ]
    },
    {
      "cell_type": "code",
      "metadata": {
        "id": "0BIRBEhu-0Eu"
      },
      "source": [
        "\n",
        "!apt-get install openjdk-8-jdk-headless -qq > /dev/null\n",
        "\n",
        "!wget -q https://dlcdn.apache.org/spark/spark-3.5.0/spark-3.5.0-bin-hadoop3.tgz\n",
        "\n",
        "!tar xf spark-3.5.0-bin-hadoop3.tgz\n",
        "\n",
        "!pip install -q findspark"
      ],
      "execution_count": null,
      "outputs": []
    },
    {
      "cell_type": "code",
      "source": [],
      "metadata": {
        "id": "V12-4RaqkXyz"
      },
      "execution_count": null,
      "outputs": []
    },
    {
      "cell_type": "code",
      "source": [],
      "metadata": {
        "id": "1fRCHv46jCWx"
      },
      "execution_count": null,
      "outputs": []
    },
    {
      "cell_type": "code",
      "metadata": {
        "id": "x6us2lUp_Txh"
      },
      "source": [
        "import os\n",
        "os.environ[\"JAVA_HOME\"] = \"/usr/lib/jvm/java-8-openjdk-amd64\"\n",
        "os.environ[\"SPARK_HOME\"] = \"/content/spark-3.5.0-bin-hadoop3\""
      ],
      "execution_count": null,
      "outputs": []
    },
    {
      "cell_type": "code",
      "metadata": {
        "colab": {
          "base_uri": "https://localhost:8080/",
          "height": 35
        },
        "id": "2qL5BQ_c_W0W",
        "outputId": "7e3c9c54-d2c7-4268-f119-453a8d2c914c"
      },
      "source": [
        "import findspark\n",
        "findspark.find()"
      ],
      "execution_count": null,
      "outputs": [
        {
          "output_type": "execute_result",
          "data": {
            "text/plain": [
              "'/content/spark-3.5.0-bin-hadoop3'"
            ],
            "application/vnd.google.colaboratory.intrinsic+json": {
              "type": "string"
            }
          },
          "metadata": {},
          "execution_count": 5
        }
      ]
    },
    {
      "cell_type": "code",
      "source": [
        "!pip install pyspark py4j"
      ],
      "metadata": {
        "colab": {
          "base_uri": "https://localhost:8080/"
        },
        "id": "1E2HNnO3lZ8I",
        "outputId": "bc0da7a0-bce5-4553-a65d-1b5e4e7c7283"
      },
      "execution_count": null,
      "outputs": [
        {
          "output_type": "stream",
          "name": "stdout",
          "text": [
            "Collecting pyspark\n",
            "  Downloading pyspark-3.5.0.tar.gz (316.9 MB)\n",
            "\u001b[2K     \u001b[90m━━━━━━━━━━━━━━━━━━━━━━━━━━━━━━━━━━━━━━━━\u001b[0m \u001b[32m316.9/316.9 MB\u001b[0m \u001b[31m3.4 MB/s\u001b[0m eta \u001b[36m0:00:00\u001b[0m\n",
            "\u001b[?25h  Preparing metadata (setup.py) ... \u001b[?25l\u001b[?25hdone\n",
            "Requirement already satisfied: py4j in /usr/local/lib/python3.10/dist-packages (0.10.9.7)\n",
            "Building wheels for collected packages: pyspark\n",
            "  Building wheel for pyspark (setup.py) ... \u001b[?25l\u001b[?25hdone\n",
            "  Created wheel for pyspark: filename=pyspark-3.5.0-py2.py3-none-any.whl size=317425344 sha256=7393edb4006a309e0a04ab0cde7e75cb1916eeb071b3c95ed383ac9d0363b104\n",
            "  Stored in directory: /root/.cache/pip/wheels/41/4e/10/c2cf2467f71c678cfc8a6b9ac9241e5e44a01940da8fbb17fc\n",
            "Successfully built pyspark\n",
            "Installing collected packages: pyspark\n",
            "Successfully installed pyspark-3.5.0\n"
          ]
        }
      ]
    },
    {
      "cell_type": "code",
      "metadata": {
        "id": "_wcoEUk5_cfH"
      },
      "source": [
        "findspark.init()"
      ],
      "execution_count": null,
      "outputs": []
    },
    {
      "cell_type": "code",
      "source": [
        "!pip install findspark"
      ],
      "metadata": {
        "colab": {
          "base_uri": "https://localhost:8080/"
        },
        "id": "RvuPeib0l4TF",
        "outputId": "6e17a50c-ed41-4533-aced-a611c5b6f22b"
      },
      "execution_count": null,
      "outputs": [
        {
          "output_type": "stream",
          "name": "stdout",
          "text": [
            "Requirement already satisfied: findspark in /usr/local/lib/python3.10/dist-packages (2.0.1)\n"
          ]
        }
      ]
    },
    {
      "cell_type": "code",
      "metadata": {
        "id": "erwZOUo8_oyv",
        "colab": {
          "base_uri": "https://localhost:8080/"
        },
        "outputId": "84b670e7-033f-44cf-f8b4-c2064817bc70"
      },
      "source": [
        "from pyspark.sql import SparkSession\n",
        "\n",
        "spark = SparkSession.builder\\\n",
        "        .master(\"local\")\\\n",
        "        .appName(\"Colab\")\\\n",
        "        .config('spark.ui.port', '4050')\\\n",
        "        .getOrCreate()\n",
        "\n",
        "from pyspark.sql import SQLContext\n",
        "sqlContext = SQLContext(spark)"
      ],
      "execution_count": null,
      "outputs": [
        {
          "output_type": "stream",
          "name": "stderr",
          "text": [
            "/content/spark-3.5.0-bin-hadoop3/python/pyspark/sql/context.py:113: FutureWarning: Deprecated in 3.0.0. Use SparkSession.builder.getOrCreate() instead.\n",
            "  warnings.warn(\n"
          ]
        }
      ]
    },
    {
      "cell_type": "code",
      "metadata": {
        "colab": {
          "base_uri": "https://localhost:8080/",
          "height": 219
        },
        "id": "_zN-fJSA_twW",
        "outputId": "2398be55-fb2b-4e1b-cd0f-8f7e73370aac"
      },
      "source": [
        "spark"
      ],
      "execution_count": null,
      "outputs": [
        {
          "output_type": "execute_result",
          "data": {
            "text/plain": [
              "<pyspark.sql.session.SparkSession at 0x7fcd8f670cd0>"
            ],
            "text/html": [
              "\n",
              "            <div>\n",
              "                <p><b>SparkSession - in-memory</b></p>\n",
              "                \n",
              "        <div>\n",
              "            <p><b>SparkContext</b></p>\n",
              "\n",
              "            <p><a href=\"http://37243706e4eb:4050\">Spark UI</a></p>\n",
              "\n",
              "            <dl>\n",
              "              <dt>Version</dt>\n",
              "                <dd><code>v3.5.0</code></dd>\n",
              "              <dt>Master</dt>\n",
              "                <dd><code>local</code></dd>\n",
              "              <dt>AppName</dt>\n",
              "                <dd><code>Colab</code></dd>\n",
              "            </dl>\n",
              "        </div>\n",
              "        \n",
              "            </div>\n",
              "        "
            ]
          },
          "metadata": {},
          "execution_count": 10
        }
      ]
    },
    {
      "cell_type": "code",
      "source": [],
      "metadata": {
        "id": "AnnjhK_Ynvnr"
      },
      "execution_count": null,
      "outputs": []
    },
    {
      "cell_type": "markdown",
      "metadata": {
        "id": "_TDT7b2x99xW"
      },
      "source": [
        "# **Reading CSV File using Spark**"
      ]
    },
    {
      "cell_type": "code",
      "metadata": {
        "id": "0VeeTW-eAKFv",
        "colab": {
          "base_uri": "https://localhost:8080/"
        },
        "outputId": "c8b7e81e-77e2-48b7-c6a5-0e1441653ff5"
      },
      "source": [
        "df = spark.read.csv(\"Airports2.csv\", header=True, inferSchema=True)\n",
        "df.registerTempTable('df')"
      ],
      "execution_count": null,
      "outputs": [
        {
          "output_type": "stream",
          "name": "stderr",
          "text": [
            "/content/spark-3.5.0-bin-hadoop3/python/pyspark/sql/dataframe.py:329: FutureWarning: Deprecated in 2.0, use createOrReplaceTempView instead.\n",
            "  warnings.warn(\"Deprecated in 2.0, use createOrReplaceTempView instead.\", FutureWarning)\n"
          ]
        }
      ]
    },
    {
      "cell_type": "markdown",
      "metadata": {
        "id": "YzXNqV9V-HE0"
      },
      "source": [
        "# **Basic Insights into Data**"
      ]
    },
    {
      "cell_type": "code",
      "metadata": {
        "colab": {
          "base_uri": "https://localhost:8080/"
        },
        "id": "gRstmRZmAWiz",
        "outputId": "e5b6b3a7-2c30-46f8-8423-4064aa00c7a8"
      },
      "source": [
        "df.printSchema()"
      ],
      "execution_count": null,
      "outputs": [
        {
          "output_type": "stream",
          "name": "stdout",
          "text": [
            "root\n",
            " |-- Origin_airport: string (nullable = true)\n",
            " |-- Destination_airport: string (nullable = true)\n",
            " |-- Origin_city: string (nullable = true)\n",
            " |-- Destination_city: string (nullable = true)\n",
            " |-- Passengers: integer (nullable = true)\n",
            " |-- Seats: integer (nullable = true)\n",
            " |-- Flights: integer (nullable = true)\n",
            " |-- Distance: integer (nullable = true)\n",
            " |-- Fly_date: date (nullable = true)\n",
            " |-- Origin_population: integer (nullable = true)\n",
            " |-- Destination_population: integer (nullable = true)\n",
            " |-- Org_airport_lat: string (nullable = true)\n",
            " |-- Org_airport_long: string (nullable = true)\n",
            " |-- Dest_airport_lat: string (nullable = true)\n",
            " |-- Dest_airport_long: string (nullable = true)\n",
            "\n"
          ]
        }
      ]
    },
    {
      "cell_type": "code",
      "metadata": {
        "colab": {
          "base_uri": "https://localhost:8080/"
        },
        "id": "aR1atRnSAjpn",
        "outputId": "dd1668b6-3e2c-4940-e03c-7b2905954a7e"
      },
      "source": [
        "df.count()"
      ],
      "execution_count": null,
      "outputs": [
        {
          "output_type": "execute_result",
          "data": {
            "text/plain": [
              "7396"
            ]
          },
          "metadata": {},
          "execution_count": 14
        }
      ]
    },
    {
      "cell_type": "code",
      "metadata": {
        "colab": {
          "base_uri": "https://localhost:8080/"
        },
        "id": "K0lw2qIQAuLX",
        "outputId": "a24ebdf8-bee0-42cb-e78c-81928b816a4a"
      },
      "source": [
        "df.describe().show()"
      ],
      "execution_count": null,
      "outputs": [
        {
          "output_type": "stream",
          "name": "stdout",
          "text": [
            "+-------+--------------+-------------------+------------+----------------+-----------------+------------------+------------------+------------------+------------------+----------------------+-----------------+-------------------+------------------+-------------------+\n",
            "|summary|Origin_airport|Destination_airport| Origin_city|Destination_city|       Passengers|             Seats|           Flights|          Distance| Origin_population|Destination_population|  Org_airport_lat|   Org_airport_long|  Dest_airport_lat|  Dest_airport_long|\n",
            "+-------+--------------+-------------------+------------+----------------+-----------------+------------------+------------------+------------------+------------------+----------------------+-----------------+-------------------+------------------+-------------------+\n",
            "|  count|          7396|               7396|        7396|            7396|             7396|              7396|              7396|              7396|              7396|                  7396|             7396|               7396|              7396|               7396|\n",
            "|   mean|          NULL|               NULL|        NULL|            NULL| 430.967009194159| 638.9720118983234|15.784748512709573| 781.6195240670633| 1744884.580313683|     62915.82084910763|40.79215318855072|-106.57934242198439| 41.61275952177072|-117.02299979790901|\n",
            "| stddev|          NULL|               NULL|        NULL|            NULL|897.9360822666672|1390.3320756163594| 40.84806413314572|460.49908301226384|3344256.1956764855|     37340.32497939316|5.411812802936521| 13.102309175025212|1.4426652922573013|  2.254113152953075|\n",
            "|    min|           ABI|                AMW|Aberdeen, SD|        Ames, IA|                0|                 0|                 0|                 0|             17675|                 35688| 26.0725994110107|       -100.2860031|  40.8249015808105|  -115.791999816895|\n",
            "|    max|           YUM|                RDM|    Yuma, AZ|        Elko, NV|             6843|              9134|               245|              2601|          25749594|                158629|               NA|                 NA|                NA|                 NA|\n",
            "+-------+--------------+-------------------+------------+----------------+-----------------+------------------+------------------+------------------+------------------+----------------------+-----------------+-------------------+------------------+-------------------+\n",
            "\n"
          ]
        }
      ]
    },
    {
      "cell_type": "markdown",
      "metadata": {
        "id": "NwEHr9pv-MB5"
      },
      "source": [
        "# **Spark Transformation and Action Operations**"
      ]
    },
    {
      "cell_type": "code",
      "metadata": {
        "colab": {
          "base_uri": "https://localhost:8080/"
        },
        "id": "0BXUCJS1AdvE",
        "outputId": "60de12c6-8c05-43e6-c4ba-cc35e35e4be9"
      },
      "source": [
        "df.show(5)"
      ],
      "execution_count": null,
      "outputs": [
        {
          "output_type": "stream",
          "name": "stdout",
          "text": [
            "+--------------+-------------------+-------------+----------------+----------+-----+-------+--------+----------+-----------------+----------------------+----------------+-----------------+----------------+-----------------+\n",
            "|Origin_airport|Destination_airport|  Origin_city|Destination_city|Passengers|Seats|Flights|Distance|  Fly_date|Origin_population|Destination_population| Org_airport_lat| Org_airport_long|Dest_airport_lat|Dest_airport_long|\n",
            "+--------------+-------------------+-------------+----------------+----------+-----+-------+--------+----------+-----------------+----------------------+----------------+-----------------+----------------+-----------------+\n",
            "|           MHK|                AMW|Manhattan, KS|        Ames, IA|        21|   30|      1|     254|2008-10-01|           122049|                 86219| 39.140998840332|-96.6707992553711|              NA|               NA|\n",
            "|           EUG|                RDM|   Eugene, OR|        Bend, OR|        41|  396|     22|     103|1990-11-01|           284093|                 76034|44.1245994567871| -123.21199798584|      44.2541008|     -121.1500015|\n",
            "|           EUG|                RDM|   Eugene, OR|        Bend, OR|        88|  342|     19|     103|1990-12-01|           284093|                 76034|44.1245994567871| -123.21199798584|      44.2541008|     -121.1500015|\n",
            "|           EUG|                RDM|   Eugene, OR|        Bend, OR|        11|   72|      4|     103|1990-10-01|           284093|                 76034|44.1245994567871| -123.21199798584|      44.2541008|     -121.1500015|\n",
            "|           MFR|                RDM|  Medford, OR|        Bend, OR|         0|   18|      1|     156|1990-02-01|           147300|                 76034|42.3741989135742|-122.873001098633|      44.2541008|     -121.1500015|\n",
            "+--------------+-------------------+-------------+----------------+----------+-----+-------+--------+----------+-----------------+----------------------+----------------+-----------------+----------------+-----------------+\n",
            "only showing top 5 rows\n",
            "\n"
          ]
        }
      ]
    },
    {
      "cell_type": "code",
      "metadata": {
        "id": "IvAsTyn3AnK_"
      },
      "source": [
        "df.select(\"Origin_airport\",\"Destination_airport\",\"Passengers\",\"Seats\").show(15)"
      ],
      "execution_count": null,
      "outputs": []
    },
    {
      "cell_type": "code",
      "metadata": {
        "colab": {
          "base_uri": "https://localhost:8080/"
        },
        "id": "YKz7gfpaAzrm",
        "outputId": "83180001-514b-41d6-bf5e-f003ba627e1e"
      },
      "source": [
        "from pyspark.sql import functions as F\n",
        "from pyspark.sql.functions import col\n",
        "from pyspark.sql.functions import desc\n",
        "import pyspark.sql.utils\n",
        "\n",
        "airportAgg_DF = df.groupBy(\"Origin_airport\").agg(F.sum(\"Passengers\"))\n",
        "airportAgg_DF.show(10)"
      ],
      "execution_count": null,
      "outputs": [
        {
          "output_type": "stream",
          "name": "stdout",
          "text": [
            "+--------------+---------------+\n",
            "|Origin_airport|sum(Passengers)|\n",
            "+--------------+---------------+\n",
            "|           GEG|          13034|\n",
            "|           GTF|          11749|\n",
            "|           GRB|          10772|\n",
            "|           FOD|           3139|\n",
            "|           IDA|            388|\n",
            "|           EUG|          29551|\n",
            "|           GYY|           6714|\n",
            "|           OAK|            442|\n",
            "|           FSM|           6648|\n",
            "|           BTM|           8576|\n",
            "+--------------+---------------+\n",
            "only showing top 10 rows\n",
            "\n"
          ]
        }
      ]
    },
    {
      "cell_type": "markdown",
      "metadata": {
        "id": "ul8pv3nR-Ygi"
      },
      "source": [
        "# **Spark SQL**"
      ]
    },
    {
      "cell_type": "markdown",
      "metadata": {
        "id": "HKCP7j9gcDnN"
      },
      "source": [
        "## **Highest Flight Departures Airport**"
      ]
    },
    {
      "cell_type": "code",
      "metadata": {
        "colab": {
          "base_uri": "https://localhost:8080/"
        },
        "id": "h93KQAGABQ23",
        "outputId": "9152e07a-d8b5-402e-b3fc-06bb41474caf"
      },
      "source": [
        "originAirports = sqlContext.sql(\"\"\"select Origin_Airport, sum(Flights) as Flights2\n",
        "                                    from df group by Origin_Airport order by sum(Flights) DESC limit 10\"\"\")\n",
        "originAirports.show()"
      ],
      "execution_count": null,
      "outputs": [
        {
          "output_type": "stream",
          "name": "stdout",
          "text": [
            "+--------------+--------+\n",
            "|Origin_Airport|Flights2|\n",
            "+--------------+--------+\n",
            "|           PDX|   70645|\n",
            "|           SEA|   19152|\n",
            "|           SFO|    9947|\n",
            "|           SLC|    4019|\n",
            "|           LMT|    2415|\n",
            "|           LAX|    1917|\n",
            "|           EUG|    1187|\n",
            "|           OMA|     402|\n",
            "|           LAS|     310|\n",
            "|           ABQ|     207|\n",
            "+--------------+--------+\n",
            "\n"
          ]
        }
      ]
    },
    {
      "cell_type": "code",
      "source": [
        "import matplotlib.pyplot as plt\n",
        "import pandas as pd\n",
        "\n",
        "# Assuming 'originAirports' is a DataFrame\n",
        "result_df = originAirports.toPandas()\n",
        "\n",
        "# Create a bar chart\n",
        "plt.figure(figsize=(10, 6))\n",
        "plt.bar(result_df['Origin_Airport'], result_df['Flights2'])\n",
        "plt.xlabel('Origin Airports')\n",
        "plt.ylabel('Number of Flights')\n",
        "plt.title('Top 10 Origin Airports by Number of Flights')\n",
        "plt.xticks(rotation=45)  # Rotate x-axis labels for better readability\n",
        "\n",
        "plt.show()\n"
      ],
      "metadata": {
        "colab": {
          "base_uri": "https://localhost:8080/",
          "height": 583
        },
        "id": "n6YfqnR4IFqM",
        "outputId": "0a2154b7-036d-4bdf-9327-b92b61b8fd8d"
      },
      "execution_count": null,
      "outputs": [
        {
          "output_type": "display_data",
          "data": {
            "text/plain": [
              "<Figure size 1000x600 with 1 Axes>"
            ],
            "image/png": "[encoded data removed]"
          },
          "metadata": {}
        }
      ]
    },
    {
      "cell_type": "markdown",
      "metadata": {
        "id": "uJdfcSQOcZgo"
      },
      "source": [
        "## **Highest Passenger Arrival Airport**"
      ]
    },
    {
      "cell_type": "code",
      "metadata": {
        "colab": {
          "base_uri": "https://localhost:8080/"
        },
        "id": "03ITa_gmGCxA",
        "outputId": "b99b8074-4c6a-4b46-c0d3-4385b7bbefa5"
      },
      "source": [
        "destinationAirports = sqlContext.sql(\"\"\"select Destination_airport, sum(Passengers) as Passengers2\n",
        "                                    from df group by Destination_airport order by sum(Passengers) DESC limit 10\"\"\")\n",
        "destinationAirports.show()"
      ],
      "execution_count": null,
      "outputs": [
        {
          "output_type": "stream",
          "name": "stdout",
          "text": [
            "+-------------------+-----------+\n",
            "|Destination_airport|Passengers2|\n",
            "+-------------------+-----------+\n",
            "|                RDM|    2346077|\n",
            "|                EKO|     841334|\n",
            "|                AMW|         21|\n",
            "+-------------------+-----------+\n",
            "\n"
          ]
        }
      ]
    },
    {
      "cell_type": "code",
      "source": [
        "import matplotlib.pyplot as plt\n",
        "import pandas as pd\n",
        "\n",
        "# Assuming that `destinationAirports` is a DataFrame from your query\n",
        "# If it's not, you may need to convert the SQL result to a DataFrame first.\n",
        "\n",
        "# Convert the DataFrame to a Pandas DataFrame\n",
        "destinationAirports_pd = destinationAirports.toPandas()\n",
        "\n",
        "# Plotting\n",
        "plt.figure(figsize=(12, 6))\n",
        "plt.bar(destinationAirports_pd['Destination_airport'], destinationAirports_pd['Passengers2'])\n",
        "plt.xlabel('Destination Airport')\n",
        "plt.ylabel('Passenger Count')\n",
        "plt.title('Top 10 Destination Airports by Passenger Count')\n",
        "plt.xticks(rotation=45)  # Rotate x-axis labels for readability\n",
        "plt.tight_layout()\n",
        "\n",
        "# Show the plot\n",
        "plt.show()\n"
      ],
      "metadata": {
        "colab": {
          "base_uri": "https://localhost:8080/",
          "height": 501
        },
        "id": "pu-fPi3l4vFK",
        "outputId": "8de31adc-6d8a-451b-f279-89c0f29b38b4"
      },
      "execution_count": null,
      "outputs": [
        {
          "output_type": "display_data",
          "data": {
            "text/plain": [
              "<Figure size 1200x600 with 1 Axes>"
            ],
            "image/png": "[encoded data removed]"
          },
          "metadata": {}
        }
      ]
    },
    {
      "cell_type": "markdown",
      "metadata": {
        "id": "biRXKITtcdoJ"
      },
      "source": [
        "## **Airports with Most Flights**"
      ]
    },
    {
      "cell_type": "code",
      "metadata": {
        "colab": {
          "base_uri": "https://localhost:8080/"
        },
        "id": "u_1r47arHomo",
        "outputId": "2520fad3-48cf-44e2-d114-b15b8d3dc16a"
      },
      "source": [
        "MostFlightsByAirports = sqlContext.sql(\"\"\"with destination as (select Destination_airport as Airport, sum(Flights) as Out_Flights\n",
        "                                    from df group by Destination_airport),\n",
        "                                    origin as (select Origin_airport as Airport, sum(Flights) as In_Flights\n",
        "                                    from df group by Origin_airport)\n",
        "                                    select origin.Airport, (destination.Out_Flights+origin.In_Flights) as Total_Flights\n",
        "                                    from origin, destination\n",
        "                                    where origin.Airport = destination.Airport\n",
        "                                    order by (origin.In_Flights + destination.Out_Flights) DESC\n",
        "                                    limit 15\"\"\")\n",
        "MostFlightsByAirports.show()"
      ],
      "execution_count": null,
      "outputs": [
        {
          "output_type": "stream",
          "name": "stdout",
          "text": [
            "+-------+-------------+\n",
            "|Airport|Total_Flights|\n",
            "+-------+-------------+\n",
            "|    RDM|       108617|\n",
            "|    EKO|         8185|\n",
            "+-------+-------------+\n",
            "\n"
          ]
        }
      ]
    },
    {
      "cell_type": "markdown",
      "metadata": {
        "id": "JQvKMn-Gcml2"
      },
      "source": [
        "## **Airports with Most Passengers**"
      ]
    },
    {
      "cell_type": "code",
      "metadata": {
        "colab": {
          "base_uri": "https://localhost:8080/"
        },
        "id": "tV3D1J6FK7tT",
        "outputId": "94cfbeec-fb89-495a-8945-13da511c726f"
      },
      "source": [
        "MostPassengersByAirports = sqlContext.sql(\"\"\"with destination as (select Destination_airport as Airport, sum(Passengers*Flights) as Out_Passengers\n",
        "                                    from df group by Destination_airport),\n",
        "                                    origin as (select Origin_airport as Airport, sum(Passengers) as In_Passengers\n",
        "                                    from df group by Origin_airport)\n",
        "                                    select origin.Airport, (destination.Out_Passengers+origin.In_Passengers) as Total_Passengers\n",
        "                                    from origin, destination\n",
        "                                    where origin.Airport = destination.Airport\n",
        "                                    order by (origin.In_Passengers + destination.Out_Passengers) DESC\n",
        "                                    limit 15\"\"\")\n",
        "MostPassengersByAirports.show()"
      ],
      "execution_count": null,
      "outputs": [
        {
          "output_type": "stream",
          "name": "stdout",
          "text": [
            "+-------+----------------+\n",
            "|Airport|Total_Passengers|\n",
            "+-------+----------------+\n",
            "|    RDM|       291412294|\n",
            "|    EKO|         1996391|\n",
            "+-------+----------------+\n",
            "\n"
          ]
        }
      ]
    },
    {
      "cell_type": "code",
      "source": [
        "import matplotlib.pyplot as plt\n",
        "import pandas as pd\n",
        "\n",
        "# Assuming 'MostPassengersByAirports' is a DataFrame\n",
        "result_df = MostPassengersByAirports.toPandas()\n",
        "\n",
        "# Create a bar chart\n",
        "plt.figure(figsize=(10, 6))\n",
        "plt.bar(result_df['Airport'], result_df['Total_Passengers'])\n",
        "plt.xlabel('Airports')\n",
        "plt.ylabel('Total Passengers')\n",
        "plt.title('Top 15 Airports by Total Passengers')\n",
        "plt.xticks(rotation=45)  # Rotate x-axis labels for better readability\n",
        "\n",
        "plt.show()\n"
      ],
      "metadata": {
        "colab": {
          "base_uri": "https://localhost:8080/",
          "height": 583
        },
        "id": "HgW-26J_IXdP",
        "outputId": "8450bafc-26e2-4de8-8d66-383f15c81c30"
      },
      "execution_count": null,
      "outputs": [
        {
          "output_type": "display_data",
          "data": {
            "text/plain": [
              "<Figure size 1000x600 with 1 Axes>"
            ],
            "image/png": "[encoded data removed]"
          },
          "metadata": {}
        }
      ]
    },
    {
      "cell_type": "markdown",
      "metadata": {
        "id": "f-EIXuLp3GU9"
      },
      "source": [
        "## **Occupancy Rates for Routes with Most Flights**"
      ]
    },
    {
      "cell_type": "code",
      "metadata": {
        "colab": {
          "base_uri": "https://localhost:8080/"
        },
        "id": "5WO8R--kJEqY",
        "outputId": "9ce26487-ae4e-4519-afa1-8201e1f6c5c8"
      },
      "source": [
        "distanceQuery = sqlContext.sql(\"\"\"with table1 as\n",
        "                                    (select least(Origin_airport, Destination_airport) as Airport1,\n",
        "                                    greatest(Destination_airport, Origin_airport) as Airport2,\n",
        "                                    sum(Flights) as Flights,\n",
        "                                    sum(Passengers) as Passengers,\n",
        "                                    sum(Seats) as Seats\n",
        "                                    from df\n",
        "                                    group by least(Origin_airport, Destination_airport), greatest(Destination_airport, Origin_airport)\n",
        "                                    order by 1,2)\n",
        "                                    select t.*, (Passengers*100/Seats) as Occupancy_Rate\n",
        "                                    from table1 t\n",
        "                                    order by Flights DESC, Seats DESC, Passengers DESC, Occupancy_Rate DESC\n",
        "                                    limit 15;\"\"\")\n",
        "distanceQuery = distanceQuery.filter((col(\"Occupancy_Rate\").isNotNull()) & (col(\"Occupancy_Rate\")<=100.0))\n",
        "distanceQuery.show(15)"
      ],
      "execution_count": null,
      "outputs": [
        {
          "output_type": "stream",
          "name": "stdout",
          "text": [
            "+--------+--------+-------+----------+-------+------------------+\n",
            "|Airport1|Airport2|Flights|Passengers|  Seats|    Occupancy_Rate|\n",
            "+--------+--------+-------+----------+-------+------------------+\n",
            "|     PDX|     RDM|  70150|   1268215|2081640| 60.92383889625488|\n",
            "|     RDM|     SEA|  18540|    529537| 783611| 67.57651436746039|\n",
            "|     RDM|     SFO|   9947|    202194| 306874| 65.88827988034177|\n",
            "|     RDM|     SLC|   3752|    145204| 187756|  77.3365431730544|\n",
            "|     LMT|     RDM|   2415|     13333|  54161| 24.61734458374107|\n",
            "|     LAX|     RDM|   1917|     96203| 147694| 65.13670155862798|\n",
            "|     EUG|     RDM|   1139|     24846|  66938|37.117930024799065|\n",
            "|     EKO|     SEA|    612|     62638|  76010|  82.4075779502697|\n",
            "|     EKO|     PDX|    495|     44779|  57551|  77.8075098608191|\n",
            "|     EKO|     OMA|    402|     44233|  49755| 88.90161792784644|\n",
            "|     LAS|     RDM|    308|     36379|  46200| 78.74242424242425|\n",
            "|     EKO|     SLC|    267|     28664|  33048| 86.73444686516582|\n",
            "|     ABQ|     EKO|    204|     21804|  25203| 86.51351029639329|\n",
            "|     DFW|     EKO|    170|     17730|  20929|   84.714988771561|\n",
            "|     EKO|     OKC|    162|     18237|  20078| 90.83076003586015|\n",
            "+--------+--------+-------+----------+-------+------------------+\n",
            "\n"
          ]
        }
      ]
    },
    {
      "cell_type": "code",
      "source": [],
      "metadata": {
        "id": "xoViQ66BIwxC"
      },
      "execution_count": null,
      "outputs": []
    },
    {
      "cell_type": "markdown",
      "metadata": {
        "id": "5K1z2Wjy9Q4q"
      },
      "source": [
        "## **Number of Flights vs Distance - Part 1**"
      ]
    },
    {
      "cell_type": "code",
      "metadata": {
        "colab": {
          "base_uri": "https://localhost:8080/"
        },
        "id": "NtwG1fxboqS_",
        "outputId": "2949fe48-2689-4672-da71-cc747c37f00b"
      },
      "source": [
        "distanceQuery = sqlContext.sql(\"\"\"with table1 as\n",
        "                                    (select least(Origin_airport, Destination_airport) as Airport1,\n",
        "                                    greatest(Destination_airport, Origin_airport) as Airport2,\n",
        "                                    mean(Distance) as Distance,\n",
        "                                    sum(Flights) as Flights\n",
        "                                    from df\n",
        "                                    group by least(Origin_airport, Destination_airport), greatest(Destination_airport, Origin_airport)\n",
        "                                    order by 1,2)\n",
        "                                    select t.*\n",
        "                                    from table1 t\n",
        "                                    where Flights>0\n",
        "                                    order by Distance DESC\n",
        "                                    limit 15;\"\"\")\n",
        "# distanceQuery = distanceQuery.filter((col(\"Occupancy_Rate\").isNotNull()) & (col(\"Occupancy_Rate\")<=100.0))\n",
        "distanceQuery.show(15)"
      ],
      "execution_count": null,
      "outputs": [
        {
          "output_type": "stream",
          "name": "stdout",
          "text": [
            "+--------+--------+--------+-------+\n",
            "|Airport1|Airport2|Distance|Flights|\n",
            "+--------+--------+--------+-------+\n",
            "|     FLL|     RDM|  2601.0|      1|\n",
            "|     CAK|     EKO|  1788.0|     16|\n",
            "|     CLE|     EKO|  1760.0|     17|\n",
            "|     FBK|     RDM|  1750.0|      1|\n",
            "|     CMH|     EKO|  1727.0|      3|\n",
            "|     DTW|     EKO|  1675.0|      5|\n",
            "|     DAY|     EKO|  1658.0|     17|\n",
            "|     ANC|     RDM|  1658.0|      2|\n",
            "|     CVG|     EKO|  1649.0|      4|\n",
            "|     GGG|     RDM|  1643.0|      6|\n",
            "|     BNA|     EKO|  1603.0|     16|\n",
            "|     EKO|     FWA|  1594.0|      1|\n",
            "|     AZO|     EKO|  1563.0|      2|\n",
            "|     EKO|     IND|  1554.0|     36|\n",
            "|     BTR|     EKO|  1550.0|      2|\n",
            "+--------+--------+--------+-------+\n",
            "\n"
          ]
        }
      ]
    },
    {
      "cell_type": "markdown",
      "metadata": {
        "id": "gdUeHE_C9gGk"
      },
      "source": [
        "## **Number of Flights vs Distance - Part 2**"
      ]
    },
    {
      "cell_type": "code",
      "metadata": {
        "colab": {
          "base_uri": "https://localhost:8080/"
        },
        "id": "0wO-6g-p3kcr",
        "outputId": "0a1f93a5-e3c6-470d-f565-5970e3aa4482"
      },
      "source": [
        "distanceQuery = sqlContext.sql(\"\"\"with table1 as\n",
        "                                    (select least(Origin_airport, Destination_airport) as Airport1,\n",
        "                                    greatest(Destination_airport, Origin_airport) as Airport2,\n",
        "                                    mean(Distance) as Distance,\n",
        "                                    sum(Flights) as Flights\n",
        "                                    from df\n",
        "                                    group by least(Origin_airport, Destination_airport), greatest(Destination_airport, Origin_airport)\n",
        "                                    order by 1,2)\n",
        "                                    select t.*\n",
        "                                    from table1 t\n",
        "                                    where Flights>0\n",
        "                                    order by Flights DESC\n",
        "                                    limit 15;\"\"\")\n",
        "# distanceQuery = distanceQuery.filter((col(\"Occupancy_Rate\").isNotNull()) & (col(\"Occupancy_Rate\")<=100.0))\n",
        "distanceQuery.show(15)"
      ],
      "execution_count": null,
      "outputs": [
        {
          "output_type": "stream",
          "name": "stdout",
          "text": [
            "+--------+--------+--------+-------+\n",
            "|Airport1|Airport2|Distance|Flights|\n",
            "+--------+--------+--------+-------+\n",
            "|     PDX|     RDM|   116.0|  70150|\n",
            "|     RDM|     SEA| 227.996|  18540|\n",
            "|     RDM|     SFO|   462.0|   9947|\n",
            "|     RDM|     SLC|   526.0|   3752|\n",
            "|     LMT|     RDM|   147.0|   2415|\n",
            "|     LAX|     RDM|   726.0|   1917|\n",
            "|     EUG|     RDM|   103.0|   1139|\n",
            "|     EKO|     SEA|   560.0|    612|\n",
            "|     EKO|     PDX|   475.0|    495|\n",
            "|     EKO|     OMA|  1037.0|    402|\n",
            "|     LAS|     RDM|   647.0|    308|\n",
            "|     EKO|     SLC|   200.0|    267|\n",
            "|     ABQ|     EKO|   640.0|    204|\n",
            "|     DFW|     EKO|  1170.0|    170|\n",
            "|     EKO|     OKC|  1057.0|    162|\n",
            "+--------+--------+--------+-------+\n",
            "\n"
          ]
        }
      ]
    },
    {
      "cell_type": "code",
      "source": [
        "import matplotlib.pyplot as plt\n",
        "import pandas as pd\n",
        "\n",
        "# Assuming 'distanceQuery' is a DataFrame\n",
        "result_df = distanceQuery.toPandas()\n",
        "\n",
        "# Sort the DataFrame by 'Flights' in descending order\n",
        "result_df = result_df.sort_values(by='Flights', ascending=False)\n",
        "\n",
        "# Select the top 15 rows\n",
        "result_df = result_df.head(15)\n",
        "\n",
        "# Create a bar chart\n",
        "plt.figure(figsize=(10, 6))\n",
        "plt.bar(result_df['Airport1'] + ' to ' + result_df['Airport2'], result_df['Flights'])\n",
        "plt.xlabel('Flight Routes')\n",
        "plt.ylabel('Number of Flights')\n",
        "plt.title('Top 15 Flight Routes by Number of Flights')\n",
        "plt.xticks(rotation=90)  # Rotate x-axis labels for better readability\n",
        "\n",
        "plt.show()\n"
      ],
      "metadata": {
        "colab": {
          "base_uri": "https://localhost:8080/",
          "height": 635
        },
        "id": "dpfWJLZeFWLk",
        "outputId": "9bbde146-bd02-4508-a61a-3c4ba380ce6e"
      },
      "execution_count": null,
      "outputs": [
        {
          "output_type": "display_data",
          "data": {
            "text/plain": [
              "<Figure size 1000x600 with 1 Axes>"
            ],
            "image/png": "[encoded data removed]"
          },
          "metadata": {}
        }
      ]
    },
    {
      "cell_type": "code",
      "source": [],
      "metadata": {
        "id": "JOXNjeVcHrxe"
      },
      "execution_count": null,
      "outputs": []
    }
  ]
}